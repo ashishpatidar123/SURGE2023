{
  "nbformat": 4,
  "nbformat_minor": 0,
  "metadata": {
    "colab": {
      "provenance": [],
      "gpuType": "T4",
      "authorship_tag": "ABX9TyNTKIm2lCWa5tqKnF7uSIc0",
      "include_colab_link": true
    },
    "kernelspec": {
      "name": "python3",
      "display_name": "Python 3"
    },
    "language_info": {
      "name": "python"
    },
    "accelerator": "GPU"
  },
  "cells": [
    {
      "cell_type": "markdown",
      "metadata": {
        "id": "view-in-github",
        "colab_type": "text"
      },
      "source": [
        "<a href=\"https://colab.research.google.com/github/ashishpatidar123/SURGE2023/blob/main/Model3.ipynb\" target=\"_parent\"><img src=\"https://colab.research.google.com/assets/colab-badge.svg\" alt=\"Open In Colab\"/></a>"
      ]
    },
    {
      "cell_type": "code",
      "execution_count": 9,
      "metadata": {
        "colab": {
          "base_uri": "https://localhost:8080/"
        },
        "id": "PcVz9o2SC0ls",
        "outputId": "906631ba-41ec-4d80-b8b9-6317f261e3cd"
      },
      "outputs": [
        {
          "output_type": "stream",
          "name": "stdout",
          "text": [
            "Mounted at /content/drive\n"
          ]
        }
      ],
      "source": [
        "from google.colab import drive\n",
        "drive.mount('/content/drive')"
      ]
    },
    {
      "cell_type": "code",
      "source": [
        "import numpy as np\n",
        "import pandas as pd\n",
        "import tensorflow as tf\n",
        "from keras.layers import Input, BatchNormalization, ReLU, LeakyReLU, add, Conv3D,Reshape,Dense,Flatten\n",
        "from keras.models import Model\n",
        "from keras.layers import GlobalAvgPool3D\n",
        "from keras.layers import multiply\n",
        "import math\n",
        "import time\n",
        "import scipy.io as sio\n",
        "\n",
        "from keras.callbacks import TensorBoard, Callback\n",
        "import h5py"
      ],
      "metadata": {
        "id": "qtYPSNeUEJgv"
      },
      "execution_count": 1,
      "outputs": []
    },
    {
      "cell_type": "code",
      "source": [
        "!pip install mat73\n",
        "import mat73"
      ],
      "metadata": {
        "colab": {
          "base_uri": "https://localhost:8080/"
        },
        "id": "TgagdHxmMGzL",
        "outputId": "23276c8e-7a5e-43ff-9816-defc0b317c07"
      },
      "execution_count": 2,
      "outputs": [
        {
          "output_type": "stream",
          "name": "stdout",
          "text": [
            "Looking in indexes: https://pypi.org/simple, https://us-python.pkg.dev/colab-wheels/public/simple/\n",
            "Collecting mat73\n",
            "  Downloading mat73-0.60-py3-none-any.whl (19 kB)\n",
            "Requirement already satisfied: h5py in /usr/local/lib/python3.10/dist-packages (from mat73) (3.8.0)\n",
            "Requirement already satisfied: numpy in /usr/local/lib/python3.10/dist-packages (from mat73) (1.22.4)\n",
            "Installing collected packages: mat73\n",
            "Successfully installed mat73-0.60\n"
          ]
        }
      ]
    },
    {
      "cell_type": "code",
      "source": [
        "reduction_ratio = 0.5"
      ],
      "metadata": {
        "id": "0tYOu6MqEJko"
      },
      "execution_count": 3,
      "outputs": []
    },
    {
      "cell_type": "code",
      "source": [
        "from keras.layers import GlobalAveragePooling3D"
      ],
      "metadata": {
        "id": "45qB2NleoumR"
      },
      "execution_count": 4,
      "outputs": []
    },
    {
      "cell_type": "code",
      "source": [
        "def attentionmodule(x, reduction_ratio=16):\n",
        "    _, c, _, _, _ = x.shape\n",
        "\n",
        "    # Squeeze\n",
        "    y = GlobalAvgPool3D(data_format='channels_first')(x)\n",
        "    y = Reshape((c,))(y)\n",
        "\n",
        "    # Excitation\n",
        "    y = Dense(c // reduction_ratio, activation='relu', use_bias=False)(y)\n",
        "    y = Dense(c, activation='sigmoid', use_bias=False)(y)\n",
        "    y = Reshape((c, 1, 1, 1))(y)\n",
        "    y = tf.broadcast_to(y, tf.shape(x))\n",
        "\n",
        "    return multiply([x, y])"
      ],
      "metadata": {
        "id": "_eHNauxCEJnY"
      },
      "execution_count": 5,
      "outputs": []
    },
    {
      "cell_type": "code",
      "source": [
        "y = Input(shape = (2,32,4,8))\n",
        "channels = y.shape[1]\n",
        "print(channels)\n",
        "y = attentionmodule(y,16)\n",
        "y.shape"
      ],
      "metadata": {
        "colab": {
          "base_uri": "https://localhost:8080/"
        },
        "id": "s3JWVK8okc_S",
        "outputId": "66570339-9251-4418-b696-58f8b42963ad"
      },
      "execution_count": 6,
      "outputs": [
        {
          "output_type": "stream",
          "name": "stdout",
          "text": [
            "2\n"
          ]
        },
        {
          "output_type": "execute_result",
          "data": {
            "text/plain": [
              "TensorShape([None, 2, 32, 4, 8])"
            ]
          },
          "metadata": {},
          "execution_count": 6
        }
      ]
    },
    {
      "cell_type": "code",
      "source": [
        "def network(x):\n",
        "\n",
        "    def Block1(y):\n",
        "        y = Conv3D(12,kernel_size = (3,2,2), padding = 'same',data_format='channels_first')(y)\n",
        "        y = BatchNormalization()(y)\n",
        "        y = LeakyReLU(alpha=0.1)(y)\n",
        "        return y\n",
        "\n",
        "    def Block2(y):\n",
        "        y = Conv3D(24,kernel_size = (3,2,2),padding = 'same',data_format='channels_first')(y)\n",
        "        temp = y\n",
        "        y = BatchNormalization()(y)\n",
        "        y = LeakyReLU(alpha=0.1)(y)\n",
        "        temp = attentionmodule(temp,24)\n",
        "        temp.shape\n",
        "        y = multiply([temp,y])\n",
        "        temp.shape\n",
        "        return y\n",
        "\n",
        "    def Block3(y):\n",
        "        y = Conv3D(4, kernel_size = (3,2,2), padding = 'same',data_format='channels_first')(y)\n",
        "        temp = y\n",
        "        y = BatchNormalization()(y)\n",
        "        y = LeakyReLU(alpha=0.1)(y)\n",
        "        temp = attentionmodule(temp,4)\n",
        "        y = multiply([temp,y])\n",
        "        return y\n",
        "\n",
        "    def Block4(y):\n",
        "        y = Conv3D(1,kernel_size = (2,3,2), padding = 'same',data_format='channels_first')(y)\n",
        "        y = BatchNormalization()(y)\n",
        "        y = LeakyReLU(alpha=0.1)(y)\n",
        "        y = Reshape((1024,))(y)\n",
        "        y = Dense(2048, activation='linear')(y)\n",
        "        y = BatchNormalization()(y)\n",
        "        y = ReLU()(y)\n",
        "        y = Reshape((2,32,8,4))(y)\n",
        "        y = Conv3D(6,kernel_size = (3,2,2),padding = 'same',data_format='channels_first')(y)\n",
        "\n",
        "        return y\n",
        "\n",
        "    def residual(y):\n",
        "        y = BatchNormalization()(y)\n",
        "        y = LeakyReLU()(y)\n",
        "        temp = y\n",
        "        y = Conv3D(24,kernel_size = (3,2,2),padding = 'same',data_format='channels_first')(y)\n",
        "        y = BatchNormalization()(y)\n",
        "        y = LeakyReLU()(y)\n",
        "        y = Conv3D(48,kernel_size = (3,2,2),padding = 'same',data_format='channels_first')(y)\n",
        "        temp1 = y\n",
        "        y = BatchNormalization()(y)\n",
        "        y = LeakyReLU()(y)\n",
        "        temp1 = attentionmodule(temp1,48)\n",
        "        y = multiply([y,temp1])\n",
        "        y = Conv3D(6,kernel_size = (3,2,2),padding = 'same',data_format='channels_first')(y)\n",
        "        y = add([y,temp])\n",
        "        return y\n",
        "\n",
        "    def residual2(y):\n",
        "        y = BatchNormalization()(y)\n",
        "        y = LeakyReLU()(y)\n",
        "        temp = y\n",
        "        y = Conv3D(24,kernel_size = (5,3,3),padding = 'same',data_format='channels_first')(y)\n",
        "        y = BatchNormalization()(y)\n",
        "        y = LeakyReLU()(y)\n",
        "        y = Conv3D(48,kernel_size = (5,3,3),padding = 'same',data_format='channels_first')(y)\n",
        "        temp1 = y\n",
        "        y = BatchNormalization()(y)\n",
        "        y = LeakyReLU()(y)\n",
        "        temp1 = attentionmodule(temp1,48)\n",
        "        y = multiply([y,temp1])\n",
        "        y = Conv3D(6,kernel_size = (5,3,3),padding = 'same',data_format='channels_first')(y)\n",
        "        y = add([y,temp])\n",
        "        return y\n",
        "\n",
        "    def Block5(y):\n",
        "        temp = y\n",
        "        y = attentionmodule(y,6)\n",
        "        y = multiply([temp,y])\n",
        "        y = Conv3D(2,kernel_size = (3,2,2),padding = 'same',data_format='channels_first')(y)\n",
        "        return y\n",
        "\n",
        "\n",
        "    x = Block1(x)\n",
        "    x = Block2(x)\n",
        "    x = Block3(x)\n",
        "    x = Block4(x)\n",
        "    x = residual(x)\n",
        "    x = residual2(x)\n",
        "    x = Block5(x)\n",
        "\n",
        "    return x"
      ],
      "metadata": {
        "id": "FBm0_CBmEJqP"
      },
      "execution_count": 7,
      "outputs": []
    },
    {
      "cell_type": "code",
      "source": [
        "train_up_mat_file = sio.loadmat(\"/content/drive/MyDrive/Datasets/DATA_Htrainin_up_FDD100.mat\")\n",
        "train_down_mat_file = sio.loadmat(\"/content/drive/MyDrive/Datasets/DATA_Htrainin_down_FDD100.mat\")\n",
        "val_up_mat_file = sio.loadmat(\"/content/drive/MyDrive/Datasets/DATA_Hvalin_up_FDD100.mat\")\n",
        "val_down_mat_file = sio.loadmat(\"/content/drive/MyDrive/Datasets/DATA_Hvalin_down_FDD100.mat\")"
      ],
      "metadata": {
        "id": "RqbLaDCFEJuI"
      },
      "execution_count": 10,
      "outputs": []
    },
    {
      "cell_type": "code",
      "source": [
        "train_up = train_up_mat_file['HT']\n",
        "train_down = train_down_mat_file['HT']\n",
        "val_up = val_up_mat_file['HT']\n",
        "val_down = val_down_mat_file['HT']"
      ],
      "metadata": {
        "id": "wvBjOobUEJwD"
      },
      "execution_count": 11,
      "outputs": []
    },
    {
      "cell_type": "code",
      "source": [
        "train_up = train_up.astype(float)\n",
        "val_up = val_up.astype(float)\n",
        "train_down = train_down.astype(float)\n",
        "val_down = val_down.astype(float)"
      ],
      "metadata": {
        "id": "BvpxFzQHEJyj"
      },
      "execution_count": 12,
      "outputs": []
    },
    {
      "cell_type": "code",
      "source": [
        "train_up.shape\n",
        "train_down.shape\n",
        "val_up.shape\n",
        "val_down.shape"
      ],
      "metadata": {
        "colab": {
          "base_uri": "https://localhost:8080/"
        },
        "id": "0gPjxTjtCoEC",
        "outputId": "1c3484f6-92a8-4108-9fc6-31b98d176dc4"
      },
      "execution_count": 13,
      "outputs": [
        {
          "output_type": "execute_result",
          "data": {
            "text/plain": [
              "(15000, 2048)"
            ]
          },
          "metadata": {},
          "execution_count": 13
        }
      ]
    },
    {
      "cell_type": "code",
      "source": [
        "train_up = np.reshape(train_up,(len(train_up),2,32,8,4))\n",
        "train_down = np.reshape(train_down,(len(train_down),2,32,8,4))\n",
        "val_up = np.reshape(val_up,(len(val_up),2,32,8,4))\n",
        "val_down = np.reshape(val_down,(len(val_down),2,32,8,4))"
      ],
      "metadata": {
        "id": "oYey670pCQCN"
      },
      "execution_count": 14,
      "outputs": []
    },
    {
      "cell_type": "code",
      "source": [
        "train_up.shape\n",
        "train_down.shape\n",
        "val_up.shape\n",
        "val_down.shape"
      ],
      "metadata": {
        "colab": {
          "base_uri": "https://localhost:8080/"
        },
        "id": "IRaVsBCrCQQH",
        "outputId": "0ec91eb3-1c3c-4088-bbb1-b756964bd530"
      },
      "execution_count": 15,
      "outputs": [
        {
          "output_type": "execute_result",
          "data": {
            "text/plain": [
              "(15000, 2, 32, 8, 4)"
            ]
          },
          "metadata": {},
          "execution_count": 15
        }
      ]
    },
    {
      "cell_type": "code",
      "source": [
        "input_tensor = Input(shape=(2,32,8,4))\n",
        "output_value = network(input_tensor)\n",
        "# output_value = Conv3D(2, kernel_size=(1, 1, 1), padding='same', data_format='channels_first', activation='linear')(output_value)\n",
        "# output_value = Conv3D(4, kernel_size=(1, 1, 1), padding='same', data_format='channels_last', activation='linear')(output_value)\n",
        "output_value.shape"
      ],
      "metadata": {
        "colab": {
          "base_uri": "https://localhost:8080/"
        },
        "id": "xp8Z_neCCQYD",
        "outputId": "1e16556d-fbe9-4bfe-a5b6-74b661b9ca66"
      },
      "execution_count": 16,
      "outputs": [
        {
          "output_type": "execute_result",
          "data": {
            "text/plain": [
              "TensorShape([None, 2, 32, 8, 4])"
            ]
          },
          "metadata": {},
          "execution_count": 16
        }
      ]
    },
    {
      "cell_type": "code",
      "source": [
        "initial_lr = 0.001\n",
        "lr_drop_factor = 0.1\n"
      ],
      "metadata": {
        "id": "_9YfhyoDDPw9"
      },
      "execution_count": 17,
      "outputs": []
    },
    {
      "cell_type": "code",
      "source": [
        "AcsiNet = Model(inputs=[input_tensor], outputs=[output_value])\n",
        "AcsiNet.compile(optimizer=tf.keras.optimizers.Adam(\n",
        "    learning_rate=initial_lr), loss='mse')\n",
        "print(AcsiNet.summary())"
      ],
      "metadata": {
        "colab": {
          "base_uri": "https://localhost:8080/"
        },
        "id": "467_aQzMCQfH",
        "outputId": "5985c09f-9283-4fbb-8b3b-53103cfefa8c"
      },
      "execution_count": 18,
      "outputs": [
        {
          "output_type": "stream",
          "name": "stdout",
          "text": [
            "Model: \"model\"\n",
            "__________________________________________________________________________________________________\n",
            " Layer (type)                   Output Shape         Param #     Connected to                     \n",
            "==================================================================================================\n",
            " input_2 (InputLayer)           [(None, 2, 32, 8, 4  0           []                               \n",
            "                                )]                                                                \n",
            "                                                                                                  \n",
            " conv3d (Conv3D)                (None, 12, 32, 8, 4  300         ['input_2[0][0]']                \n",
            "                                )                                                                 \n",
            "                                                                                                  \n",
            " batch_normalization (BatchNorm  (None, 12, 32, 8, 4  16         ['conv3d[0][0]']                 \n",
            " alization)                     )                                                                 \n",
            "                                                                                                  \n",
            " leaky_re_lu (LeakyReLU)        (None, 12, 32, 8, 4  0           ['batch_normalization[0][0]']    \n",
            "                                )                                                                 \n",
            "                                                                                                  \n",
            " conv3d_1 (Conv3D)              (None, 24, 32, 8, 4  3480        ['leaky_re_lu[0][0]']            \n",
            "                                )                                                                 \n",
            "                                                                                                  \n",
            " global_average_pooling3d_1 (Gl  (None, 24)          0           ['conv3d_1[0][0]']               \n",
            " obalAveragePooling3D)                                                                            \n",
            "                                                                                                  \n",
            " reshape_2 (Reshape)            (None, 24)           0           ['global_average_pooling3d_1[0][0\n",
            "                                                                 ]']                              \n",
            "                                                                                                  \n",
            " dense_2 (Dense)                (None, 1)            24          ['reshape_2[0][0]']              \n",
            "                                                                                                  \n",
            " dense_3 (Dense)                (None, 24)           24          ['dense_2[0][0]']                \n",
            "                                                                                                  \n",
            " reshape_3 (Reshape)            (None, 24, 1, 1, 1)  0           ['dense_3[0][0]']                \n",
            "                                                                                                  \n",
            " tf.compat.v1.shape_1 (TFOpLamb  (5,)                0           ['conv3d_1[0][0]']               \n",
            " da)                                                                                              \n",
            "                                                                                                  \n",
            " tf.broadcast_to_1 (TFOpLambda)  (None, 24, 32, 8, 4  0          ['reshape_3[0][0]',              \n",
            "                                )                                 'tf.compat.v1.shape_1[0][0]']   \n",
            "                                                                                                  \n",
            " batch_normalization_1 (BatchNo  (None, 24, 32, 8, 4  16         ['conv3d_1[0][0]']               \n",
            " rmalization)                   )                                                                 \n",
            "                                                                                                  \n",
            " multiply_1 (Multiply)          (None, 24, 32, 8, 4  0           ['conv3d_1[0][0]',               \n",
            "                                )                                 'tf.broadcast_to_1[0][0]']      \n",
            "                                                                                                  \n",
            " leaky_re_lu_1 (LeakyReLU)      (None, 24, 32, 8, 4  0           ['batch_normalization_1[0][0]']  \n",
            "                                )                                                                 \n",
            "                                                                                                  \n",
            " multiply_2 (Multiply)          (None, 24, 32, 8, 4  0           ['multiply_1[0][0]',             \n",
            "                                )                                 'leaky_re_lu_1[0][0]']          \n",
            "                                                                                                  \n",
            " conv3d_2 (Conv3D)              (None, 4, 32, 8, 4)  1156        ['multiply_2[0][0]']             \n",
            "                                                                                                  \n",
            " global_average_pooling3d_2 (Gl  (None, 4)           0           ['conv3d_2[0][0]']               \n",
            " obalAveragePooling3D)                                                                            \n",
            "                                                                                                  \n",
            " reshape_4 (Reshape)            (None, 4)            0           ['global_average_pooling3d_2[0][0\n",
            "                                                                 ]']                              \n",
            "                                                                                                  \n",
            " dense_4 (Dense)                (None, 1)            4           ['reshape_4[0][0]']              \n",
            "                                                                                                  \n",
            " dense_5 (Dense)                (None, 4)            4           ['dense_4[0][0]']                \n",
            "                                                                                                  \n",
            " reshape_5 (Reshape)            (None, 4, 1, 1, 1)   0           ['dense_5[0][0]']                \n",
            "                                                                                                  \n",
            " tf.compat.v1.shape_2 (TFOpLamb  (5,)                0           ['conv3d_2[0][0]']               \n",
            " da)                                                                                              \n",
            "                                                                                                  \n",
            " tf.broadcast_to_2 (TFOpLambda)  (None, 4, 32, 8, 4)  0          ['reshape_5[0][0]',              \n",
            "                                                                  'tf.compat.v1.shape_2[0][0]']   \n",
            "                                                                                                  \n",
            " batch_normalization_2 (BatchNo  (None, 4, 32, 8, 4)  16         ['conv3d_2[0][0]']               \n",
            " rmalization)                                                                                     \n",
            "                                                                                                  \n",
            " multiply_3 (Multiply)          (None, 4, 32, 8, 4)  0           ['conv3d_2[0][0]',               \n",
            "                                                                  'tf.broadcast_to_2[0][0]']      \n",
            "                                                                                                  \n",
            " leaky_re_lu_2 (LeakyReLU)      (None, 4, 32, 8, 4)  0           ['batch_normalization_2[0][0]']  \n",
            "                                                                                                  \n",
            " multiply_4 (Multiply)          (None, 4, 32, 8, 4)  0           ['multiply_3[0][0]',             \n",
            "                                                                  'leaky_re_lu_2[0][0]']          \n",
            "                                                                                                  \n",
            " conv3d_3 (Conv3D)              (None, 1, 32, 8, 4)  49          ['multiply_4[0][0]']             \n",
            "                                                                                                  \n",
            " batch_normalization_3 (BatchNo  (None, 1, 32, 8, 4)  16         ['conv3d_3[0][0]']               \n",
            " rmalization)                                                                                     \n",
            "                                                                                                  \n",
            " leaky_re_lu_3 (LeakyReLU)      (None, 1, 32, 8, 4)  0           ['batch_normalization_3[0][0]']  \n",
            "                                                                                                  \n",
            " reshape_6 (Reshape)            (None, 1024)         0           ['leaky_re_lu_3[0][0]']          \n",
            "                                                                                                  \n",
            " dense_6 (Dense)                (None, 2048)         2099200     ['reshape_6[0][0]']              \n",
            "                                                                                                  \n",
            " batch_normalization_4 (BatchNo  (None, 2048)        8192        ['dense_6[0][0]']                \n",
            " rmalization)                                                                                     \n",
            "                                                                                                  \n",
            " re_lu (ReLU)                   (None, 2048)         0           ['batch_normalization_4[0][0]']  \n",
            "                                                                                                  \n",
            " reshape_7 (Reshape)            (None, 2, 32, 8, 4)  0           ['re_lu[0][0]']                  \n",
            "                                                                                                  \n",
            " conv3d_4 (Conv3D)              (None, 6, 32, 8, 4)  150         ['reshape_7[0][0]']              \n",
            "                                                                                                  \n",
            " batch_normalization_5 (BatchNo  (None, 6, 32, 8, 4)  16         ['conv3d_4[0][0]']               \n",
            " rmalization)                                                                                     \n",
            "                                                                                                  \n",
            " leaky_re_lu_4 (LeakyReLU)      (None, 6, 32, 8, 4)  0           ['batch_normalization_5[0][0]']  \n",
            "                                                                                                  \n",
            " conv3d_5 (Conv3D)              (None, 24, 32, 8, 4  1752        ['leaky_re_lu_4[0][0]']          \n",
            "                                )                                                                 \n",
            "                                                                                                  \n",
            " batch_normalization_6 (BatchNo  (None, 24, 32, 8, 4  16         ['conv3d_5[0][0]']               \n",
            " rmalization)                   )                                                                 \n",
            "                                                                                                  \n",
            " leaky_re_lu_5 (LeakyReLU)      (None, 24, 32, 8, 4  0           ['batch_normalization_6[0][0]']  \n",
            "                                )                                                                 \n",
            "                                                                                                  \n",
            " conv3d_6 (Conv3D)              (None, 48, 32, 8, 4  13872       ['leaky_re_lu_5[0][0]']          \n",
            "                                )                                                                 \n",
            "                                                                                                  \n",
            " global_average_pooling3d_3 (Gl  (None, 48)          0           ['conv3d_6[0][0]']               \n",
            " obalAveragePooling3D)                                                                            \n",
            "                                                                                                  \n",
            " reshape_8 (Reshape)            (None, 48)           0           ['global_average_pooling3d_3[0][0\n",
            "                                                                 ]']                              \n",
            "                                                                                                  \n",
            " dense_7 (Dense)                (None, 1)            48          ['reshape_8[0][0]']              \n",
            "                                                                                                  \n",
            " dense_8 (Dense)                (None, 48)           48          ['dense_7[0][0]']                \n",
            "                                                                                                  \n",
            " reshape_9 (Reshape)            (None, 48, 1, 1, 1)  0           ['dense_8[0][0]']                \n",
            "                                                                                                  \n",
            " tf.compat.v1.shape_3 (TFOpLamb  (5,)                0           ['conv3d_6[0][0]']               \n",
            " da)                                                                                              \n",
            "                                                                                                  \n",
            " batch_normalization_7 (BatchNo  (None, 48, 32, 8, 4  16         ['conv3d_6[0][0]']               \n",
            " rmalization)                   )                                                                 \n",
            "                                                                                                  \n",
            " tf.broadcast_to_3 (TFOpLambda)  (None, 48, 32, 8, 4  0          ['reshape_9[0][0]',              \n",
            "                                )                                 'tf.compat.v1.shape_3[0][0]']   \n",
            "                                                                                                  \n",
            " leaky_re_lu_6 (LeakyReLU)      (None, 48, 32, 8, 4  0           ['batch_normalization_7[0][0]']  \n",
            "                                )                                                                 \n",
            "                                                                                                  \n",
            " multiply_5 (Multiply)          (None, 48, 32, 8, 4  0           ['conv3d_6[0][0]',               \n",
            "                                )                                 'tf.broadcast_to_3[0][0]']      \n",
            "                                                                                                  \n",
            " multiply_6 (Multiply)          (None, 48, 32, 8, 4  0           ['leaky_re_lu_6[0][0]',          \n",
            "                                )                                 'multiply_5[0][0]']             \n",
            "                                                                                                  \n",
            " conv3d_7 (Conv3D)              (None, 6, 32, 8, 4)  3462        ['multiply_6[0][0]']             \n",
            "                                                                                                  \n",
            " add (Add)                      (None, 6, 32, 8, 4)  0           ['conv3d_7[0][0]',               \n",
            "                                                                  'leaky_re_lu_4[0][0]']          \n",
            "                                                                                                  \n",
            " batch_normalization_8 (BatchNo  (None, 6, 32, 8, 4)  16         ['add[0][0]']                    \n",
            " rmalization)                                                                                     \n",
            "                                                                                                  \n",
            " leaky_re_lu_7 (LeakyReLU)      (None, 6, 32, 8, 4)  0           ['batch_normalization_8[0][0]']  \n",
            "                                                                                                  \n",
            " conv3d_8 (Conv3D)              (None, 24, 32, 8, 4  6504        ['leaky_re_lu_7[0][0]']          \n",
            "                                )                                                                 \n",
            "                                                                                                  \n",
            " batch_normalization_9 (BatchNo  (None, 24, 32, 8, 4  16         ['conv3d_8[0][0]']               \n",
            " rmalization)                   )                                                                 \n",
            "                                                                                                  \n",
            " leaky_re_lu_8 (LeakyReLU)      (None, 24, 32, 8, 4  0           ['batch_normalization_9[0][0]']  \n",
            "                                )                                                                 \n",
            "                                                                                                  \n",
            " conv3d_9 (Conv3D)              (None, 48, 32, 8, 4  51888       ['leaky_re_lu_8[0][0]']          \n",
            "                                )                                                                 \n",
            "                                                                                                  \n",
            " global_average_pooling3d_4 (Gl  (None, 48)          0           ['conv3d_9[0][0]']               \n",
            " obalAveragePooling3D)                                                                            \n",
            "                                                                                                  \n",
            " reshape_10 (Reshape)           (None, 48)           0           ['global_average_pooling3d_4[0][0\n",
            "                                                                 ]']                              \n",
            "                                                                                                  \n",
            " dense_9 (Dense)                (None, 1)            48          ['reshape_10[0][0]']             \n",
            "                                                                                                  \n",
            " dense_10 (Dense)               (None, 48)           48          ['dense_9[0][0]']                \n",
            "                                                                                                  \n",
            " reshape_11 (Reshape)           (None, 48, 1, 1, 1)  0           ['dense_10[0][0]']               \n",
            "                                                                                                  \n",
            " tf.compat.v1.shape_4 (TFOpLamb  (5,)                0           ['conv3d_9[0][0]']               \n",
            " da)                                                                                              \n",
            "                                                                                                  \n",
            " batch_normalization_10 (BatchN  (None, 48, 32, 8, 4  16         ['conv3d_9[0][0]']               \n",
            " ormalization)                  )                                                                 \n",
            "                                                                                                  \n",
            " tf.broadcast_to_4 (TFOpLambda)  (None, 48, 32, 8, 4  0          ['reshape_11[0][0]',             \n",
            "                                )                                 'tf.compat.v1.shape_4[0][0]']   \n",
            "                                                                                                  \n",
            " leaky_re_lu_9 (LeakyReLU)      (None, 48, 32, 8, 4  0           ['batch_normalization_10[0][0]'] \n",
            "                                )                                                                 \n",
            "                                                                                                  \n",
            " multiply_7 (Multiply)          (None, 48, 32, 8, 4  0           ['conv3d_9[0][0]',               \n",
            "                                )                                 'tf.broadcast_to_4[0][0]']      \n",
            "                                                                                                  \n",
            " multiply_8 (Multiply)          (None, 48, 32, 8, 4  0           ['leaky_re_lu_9[0][0]',          \n",
            "                                )                                 'multiply_7[0][0]']             \n",
            "                                                                                                  \n",
            " conv3d_10 (Conv3D)             (None, 6, 32, 8, 4)  12966       ['multiply_8[0][0]']             \n",
            "                                                                                                  \n",
            " add_1 (Add)                    (None, 6, 32, 8, 4)  0           ['conv3d_10[0][0]',              \n",
            "                                                                  'leaky_re_lu_7[0][0]']          \n",
            "                                                                                                  \n",
            " global_average_pooling3d_5 (Gl  (None, 6)           0           ['add_1[0][0]']                  \n",
            " obalAveragePooling3D)                                                                            \n",
            "                                                                                                  \n",
            " reshape_12 (Reshape)           (None, 6)            0           ['global_average_pooling3d_5[0][0\n",
            "                                                                 ]']                              \n",
            "                                                                                                  \n",
            " dense_11 (Dense)               (None, 1)            6           ['reshape_12[0][0]']             \n",
            "                                                                                                  \n",
            " dense_12 (Dense)               (None, 6)            6           ['dense_11[0][0]']               \n",
            "                                                                                                  \n",
            " reshape_13 (Reshape)           (None, 6, 1, 1, 1)   0           ['dense_12[0][0]']               \n",
            "                                                                                                  \n",
            " tf.compat.v1.shape_5 (TFOpLamb  (5,)                0           ['add_1[0][0]']                  \n",
            " da)                                                                                              \n",
            "                                                                                                  \n",
            " tf.broadcast_to_5 (TFOpLambda)  (None, 6, 32, 8, 4)  0          ['reshape_13[0][0]',             \n",
            "                                                                  'tf.compat.v1.shape_5[0][0]']   \n",
            "                                                                                                  \n",
            " multiply_9 (Multiply)          (None, 6, 32, 8, 4)  0           ['add_1[0][0]',                  \n",
            "                                                                  'tf.broadcast_to_5[0][0]']      \n",
            "                                                                                                  \n",
            " multiply_10 (Multiply)         (None, 6, 32, 8, 4)  0           ['add_1[0][0]',                  \n",
            "                                                                  'multiply_9[0][0]']             \n",
            "                                                                                                  \n",
            " conv3d_11 (Conv3D)             (None, 2, 32, 8, 4)  146         ['multiply_10[0][0]']            \n",
            "                                                                                                  \n",
            "==================================================================================================\n",
            "Total params: 2,203,537\n",
            "Trainable params: 2,199,361\n",
            "Non-trainable params: 4,176\n",
            "__________________________________________________________________________________________________\n",
            "None\n"
          ]
        }
      ]
    },
    {
      "cell_type": "code",
      "source": [
        "class LossHistory(Callback):\n",
        "    # At the start of our training we intialize 2 variables to keep track of our losses\n",
        "    def on_train_begin(self, logs={}):\n",
        "        self.losses_train = []\n",
        "        self.losses_val = []\n",
        "    # We append to the end of the losses_train our current batch loss\n",
        "\n",
        "    def on_batch_end(self, batch, logs={}):\n",
        "        self.losses_train.append(logs.get('loss'))\n",
        "    # We append to the end of the losses_val our validation loss\n",
        "\n",
        "    def on_epoch_end(self, epoch, logs={}):\n",
        "        self.losses_val.append(logs.get('val_loss'))\n",
        "\n",
        "\n",
        "    def scheduler(epoch, lr):\n",
        "        # Implement additional conditions if needed\n",
        "        if epoch > 20 and lr > 1e-8:\n",
        "            lr *= 0.1  # Reduce learning rate by a factor of 10\n",
        "        return lr\n",
        "\n",
        "\n"
      ],
      "metadata": {
        "id": "BKnK09scDbk5"
      },
      "execution_count": 19,
      "outputs": []
    },
    {
      "cell_type": "code",
      "source": [
        "history = LossHistory()\n",
        "# Create a file name\n",
        "file = 'AcsiNet'+time.strftime('_%m_%d')\n",
        "path = 'result/TensorBoard_%s' % file\n",
        "earlyStopping = tf.keras.callbacks.EarlyStopping(\n",
        "    patience=200, restore_best_weights=True)"
      ],
      "metadata": {
        "id": "4vELXXfgDbex"
      },
      "execution_count": 20,
      "outputs": []
    },
    {
      "cell_type": "code",
      "source": [
        "AcsiNet.fit(train_up,train_down,\n",
        "           epochs=50,\n",
        "           batch_size=512,\n",
        "           validation_data=(val_up,val_down),\n",
        "           shuffle=True,\n",
        "           callbacks=[history,\n",
        "                      TensorBoard(log_dir=path), earlyStopping])"
      ],
      "metadata": {
        "colab": {
          "base_uri": "https://localhost:8080/"
        },
        "id": "r4b0_mkBDbb3",
        "outputId": "f88486c3-478e-4645-994c-0102eb2b360e"
      },
      "execution_count": 21,
      "outputs": [
        {
          "output_type": "stream",
          "name": "stdout",
          "text": [
            "Epoch 1/50\n",
            "  6/137 [>.............................] - ETA: 49s - loss: 809.7615"
          ]
        },
        {
          "output_type": "stream",
          "name": "stderr",
          "text": [
            "WARNING:tensorflow:Callback method `on_train_batch_end` is slow compared to the batch time (batch time: 0.1372s vs `on_train_batch_end` time: 0.2538s). Check your callbacks.\n"
          ]
        },
        {
          "output_type": "stream",
          "name": "stdout",
          "text": [
            "137/137 [==============================] - 89s 464ms/step - loss: 37.4228 - val_loss: 0.2207\n",
            "Epoch 2/50\n",
            "137/137 [==============================] - 58s 424ms/step - loss: 0.2263 - val_loss: 0.2397\n",
            "Epoch 3/50\n",
            "137/137 [==============================] - 56s 411ms/step - loss: 0.1432 - val_loss: 9.4294\n",
            "Epoch 4/50\n",
            "137/137 [==============================] - 58s 424ms/step - loss: 0.1026 - val_loss: 4.7029\n",
            "Epoch 5/50\n",
            "137/137 [==============================] - 58s 426ms/step - loss: 0.0761 - val_loss: 0.1477\n",
            "Epoch 6/50\n",
            "137/137 [==============================] - 56s 411ms/step - loss: 0.0571 - val_loss: 0.0531\n",
            "Epoch 7/50\n",
            "137/137 [==============================] - 58s 425ms/step - loss: 0.0430 - val_loss: 0.0367\n",
            "Epoch 8/50\n",
            "137/137 [==============================] - 57s 416ms/step - loss: 0.0324 - val_loss: 0.0282\n",
            "Epoch 9/50\n",
            "137/137 [==============================] - 57s 419ms/step - loss: 0.0244 - val_loss: 0.0215\n",
            "Epoch 10/50\n",
            "137/137 [==============================] - 59s 428ms/step - loss: 0.0185 - val_loss: 0.0163\n",
            "Epoch 11/50\n",
            "137/137 [==============================] - 58s 427ms/step - loss: 0.0140 - val_loss: 0.0123\n",
            "Epoch 12/50\n",
            "137/137 [==============================] - 57s 415ms/step - loss: 0.0107 - val_loss: 0.0094\n",
            "Epoch 13/50\n",
            "137/137 [==============================] - 59s 430ms/step - loss: 0.0082 - val_loss: 0.0073\n",
            "Epoch 14/50\n",
            "137/137 [==============================] - 59s 431ms/step - loss: 0.0064 - val_loss: 0.0057\n",
            "Epoch 15/50\n",
            "137/137 [==============================] - 59s 428ms/step - loss: 0.0050 - val_loss: 0.0045\n",
            "Epoch 16/50\n",
            "137/137 [==============================] - 59s 430ms/step - loss: 0.0040 - val_loss: 0.0037\n",
            "Epoch 17/50\n",
            "137/137 [==============================] - 57s 417ms/step - loss: 0.0033 - val_loss: 0.0030\n",
            "Epoch 18/50\n",
            "137/137 [==============================] - 57s 415ms/step - loss: 0.0027 - val_loss: 0.0025\n",
            "Epoch 19/50\n",
            "137/137 [==============================] - 56s 411ms/step - loss: 0.0023 - val_loss: 0.0022\n",
            "Epoch 20/50\n",
            "137/137 [==============================] - 58s 425ms/step - loss: 0.0020 - val_loss: 0.0019\n",
            "Epoch 21/50\n",
            "137/137 [==============================] - 58s 425ms/step - loss: 0.0017 - val_loss: 0.0016\n",
            "Epoch 22/50\n",
            "137/137 [==============================] - 58s 424ms/step - loss: 0.0015 - val_loss: 0.0014\n",
            "Epoch 23/50\n",
            "137/137 [==============================] - 58s 425ms/step - loss: 0.0013 - val_loss: 0.0013\n",
            "Epoch 24/50\n",
            "137/137 [==============================] - 56s 411ms/step - loss: 0.0012 - val_loss: 0.0011\n",
            "Epoch 25/50\n",
            "137/137 [==============================] - 58s 425ms/step - loss: 0.0011 - val_loss: 9.9660e-04\n",
            "Epoch 26/50\n",
            "137/137 [==============================] - 58s 425ms/step - loss: 9.4553e-04 - val_loss: 8.9268e-04\n",
            "Epoch 27/50\n",
            "137/137 [==============================] - 58s 423ms/step - loss: 8.5050e-04 - val_loss: 8.0256e-04\n",
            "Epoch 28/50\n",
            "137/137 [==============================] - 58s 423ms/step - loss: 7.6524e-04 - val_loss: 7.2419e-04\n",
            "Epoch 29/50\n",
            "137/137 [==============================] - 58s 424ms/step - loss: 6.9235e-04 - val_loss: 6.5473e-04\n",
            "Epoch 30/50\n",
            "137/137 [==============================] - 58s 425ms/step - loss: 6.2577e-04 - val_loss: 5.9299e-04\n",
            "Epoch 31/50\n",
            "137/137 [==============================] - 58s 424ms/step - loss: 5.6740e-04 - val_loss: 5.3667e-04\n",
            "Epoch 32/50\n",
            "137/137 [==============================] - 58s 425ms/step - loss: 5.1487e-04 - val_loss: 4.8853e-04\n",
            "Epoch 33/50\n",
            "137/137 [==============================] - 56s 411ms/step - loss: 4.6848e-04 - val_loss: 4.4367e-04\n",
            "Epoch 34/50\n",
            "137/137 [==============================] - 56s 412ms/step - loss: 4.2675e-04 - val_loss: 4.0488e-04\n",
            "Epoch 35/50\n",
            "137/137 [==============================] - 58s 424ms/step - loss: 3.8945e-04 - val_loss: 3.7054e-04\n",
            "Epoch 36/50\n",
            "137/137 [==============================] - 58s 425ms/step - loss: 3.5554e-04 - val_loss: 3.3900e-04\n",
            "Epoch 37/50\n",
            "137/137 [==============================] - 58s 424ms/step - loss: 3.2528e-04 - val_loss: 3.1020e-04\n",
            "Epoch 38/50\n",
            "137/137 [==============================] - 56s 411ms/step - loss: 2.9833e-04 - val_loss: 2.8496e-04\n",
            "Epoch 39/50\n",
            "137/137 [==============================] - 56s 411ms/step - loss: 2.7390e-04 - val_loss: 2.6157e-04\n",
            "Epoch 40/50\n",
            "137/137 [==============================] - 56s 412ms/step - loss: 2.5184e-04 - val_loss: 2.4056e-04\n",
            "Epoch 41/50\n",
            "137/137 [==============================] - 56s 411ms/step - loss: 2.3223e-04 - val_loss: 2.2212e-04\n",
            "Epoch 42/50\n",
            "137/137 [==============================] - 58s 425ms/step - loss: 2.1429e-04 - val_loss: 2.0493e-04\n",
            "Epoch 43/50\n",
            "137/137 [==============================] - 58s 424ms/step - loss: 1.9785e-04 - val_loss: 1.8962e-04\n",
            "Epoch 44/50\n",
            "137/137 [==============================] - 57s 413ms/step - loss: 1.8336e-04 - val_loss: 1.7552e-04\n",
            "Epoch 45/50\n",
            "137/137 [==============================] - 58s 424ms/step - loss: 1.7012e-04 - val_loss: 1.6327e-04\n",
            "Epoch 46/50\n",
            "137/137 [==============================] - 58s 425ms/step - loss: 1.5815e-04 - val_loss: 1.5193e-04\n",
            "Epoch 47/50\n",
            "137/137 [==============================] - 56s 411ms/step - loss: 1.4732e-04 - val_loss: 1.4199e-04\n",
            "Epoch 48/50\n",
            "137/137 [==============================] - 58s 424ms/step - loss: 1.3757e-04 - val_loss: 1.3282e-04\n",
            "Epoch 49/50\n",
            "137/137 [==============================] - 58s 424ms/step - loss: 1.2867e-04 - val_loss: 1.2419e-04\n",
            "Epoch 50/50\n",
            "137/137 [==============================] - 56s 412ms/step - loss: 1.2069e-04 - val_loss: 1.1659e-04\n"
          ]
        },
        {
          "output_type": "execute_result",
          "data": {
            "text/plain": [
              "<keras.callbacks.History at 0x7f005d696320>"
            ]
          },
          "metadata": {},
          "execution_count": 21
        }
      ]
    },
    {
      "cell_type": "code",
      "source": [
        "filename = 'result/trainloss_%s.csv'%file\n",
        "loss_history = np.array(history.losses_train)\n",
        "np.savetxt(filename, loss_history, delimiter=\",\")"
      ],
      "metadata": {
        "id": "Ctwdd-NyDbTz"
      },
      "execution_count": 22,
      "outputs": []
    },
    {
      "cell_type": "code",
      "source": [
        "filename = 'result/valloss_%s.csv'%file\n",
        "loss_history = np.array(history.losses_val)\n",
        "np.savetxt(filename, loss_history, delimiter=\",\")"
      ],
      "metadata": {
        "id": "qPa0VeykDbE_"
      },
      "execution_count": 23,
      "outputs": []
    },
    {
      "cell_type": "code",
      "source": [
        "test_up_mat_file = sio.loadmat(\"/content/drive/MyDrive/Datasets/DATA_Htestin_up_FDD100.mat\")\n",
        "test_down_mat_file = sio.loadmat(\"/content/drive/MyDrive/Datasets/DATA_Htestin_down_FDD100.mat\")"
      ],
      "metadata": {
        "id": "9ZxjvKn1P5FB"
      },
      "execution_count": 24,
      "outputs": []
    },
    {
      "cell_type": "code",
      "source": [
        "test_up = test_up_mat_file['HT']\n",
        "test_down = test_down_mat_file['HT']"
      ],
      "metadata": {
        "id": "JjQItj2fQf6n"
      },
      "execution_count": 25,
      "outputs": []
    },
    {
      "cell_type": "code",
      "source": [
        "test_up = test_up.astype(float)\n",
        "test_down = test_down.astype(float)"
      ],
      "metadata": {
        "id": "eCNZjG3pQmTn"
      },
      "execution_count": 26,
      "outputs": []
    },
    {
      "cell_type": "code",
      "source": [
        "test_up = np.reshape(test_up,(len(test_up),2,32,8,4))\n",
        "test_down = np.reshape(test_down,(len(test_down),2,32,8,4))\n"
      ],
      "metadata": {
        "id": "0e9pi-x0QmEp"
      },
      "execution_count": 27,
      "outputs": []
    },
    {
      "cell_type": "code",
      "source": [
        "tStart = time.time()\n",
        "x_hat = AcsiNet.predict(test_up)\n",
        "tEnd = time.time()\n",
        "print (\"It cost %f sec\" % ((tEnd - tStart)/test_up.shape[0]))"
      ],
      "metadata": {
        "colab": {
          "base_uri": "https://localhost:8080/"
        },
        "id": "qGFmCbl9Ppgd",
        "outputId": "57322da3-04a4-45fb-9f16-4122c17c8d0c"
      },
      "execution_count": 28,
      "outputs": [
        {
          "output_type": "stream",
          "name": "stdout",
          "text": [
            "469/469 [==============================] - 5s 9ms/step\n",
            "It cost 0.000777 sec\n"
          ]
        }
      ]
    },
    {
      "cell_type": "code",
      "source": [
        "def NMSE(x_i,x_hat):\n",
        "    x_i_real = np.reshape(x_i[:,:,:,0],(len(x_i),-1))\n",
        "    x_i_img  = np.reshape(x_i[:,:,:,1],(len(x_i),-1))\n",
        "    x_i_C = x_i_real-0.5 + 1j*(x_i_img-0.5)\n",
        "\n",
        "    x_hat_real = np.reshape(x_hat[:,:,:,0],(len(x_i),-1))\n",
        "    x_hat_img  = np.reshape(x_hat[:,:,:,1],(len(x_i),-1))\n",
        "    x_hat_C = x_hat_real-0.5 + 1j*(x_hat_img-0.5)\n",
        "\n",
        "    mse = np.mean(np.abs(x_i_C-x_hat_C)**2, axis=1)\n",
        "    power = np.sum(np.abs(x_i_C)**2, axis=1)\n",
        "    #NMSE = mse/power\n",
        "    #NMSE = 10*np.log10(NMSE)\n",
        "    #NMSE = np.sum(NMSE)\n",
        "    NMSE = 10 * np.log10(np.mean(mse) / np.maximum(np.mean(power), 1e-10))\n",
        "    return NMSE"
      ],
      "metadata": {
        "id": "_SvU_wcvPpdm"
      },
      "execution_count": 29,
      "outputs": []
    },
    {
      "cell_type": "code",
      "source": [
        "print(\"NMSE is \", NMSE(test_down,x_hat))\n",
        "filename = \"result/decoded_%s.csv\" %file\n",
        "x_hat1 = np.reshape(x_hat, (len(x_hat), -1))\n",
        "np.savetxt(filename, x_hat1, delimiter=\",\")\n",
        "print(AcsiNet.summary())"
      ],
      "metadata": {
        "colab": {
          "base_uri": "https://localhost:8080/"
        },
        "id": "TAkebsc4PpUY",
        "outputId": "427853c4-b427-47bb-96fe-e74faf7dce46"
      },
      "execution_count": 30,
      "outputs": [
        {
          "output_type": "stream",
          "name": "stdout",
          "text": [
            "NMSE is  -24.53458348259932\n",
            "Model: \"model\"\n",
            "__________________________________________________________________________________________________\n",
            " Layer (type)                   Output Shape         Param #     Connected to                     \n",
            "==================================================================================================\n",
            " input_2 (InputLayer)           [(None, 2, 32, 8, 4  0           []                               \n",
            "                                )]                                                                \n",
            "                                                                                                  \n",
            " conv3d (Conv3D)                (None, 12, 32, 8, 4  300         ['input_2[0][0]']                \n",
            "                                )                                                                 \n",
            "                                                                                                  \n",
            " batch_normalization (BatchNorm  (None, 12, 32, 8, 4  16         ['conv3d[0][0]']                 \n",
            " alization)                     )                                                                 \n",
            "                                                                                                  \n",
            " leaky_re_lu (LeakyReLU)        (None, 12, 32, 8, 4  0           ['batch_normalization[0][0]']    \n",
            "                                )                                                                 \n",
            "                                                                                                  \n",
            " conv3d_1 (Conv3D)              (None, 24, 32, 8, 4  3480        ['leaky_re_lu[0][0]']            \n",
            "                                )                                                                 \n",
            "                                                                                                  \n",
            " global_average_pooling3d_1 (Gl  (None, 24)          0           ['conv3d_1[0][0]']               \n",
            " obalAveragePooling3D)                                                                            \n",
            "                                                                                                  \n",
            " reshape_2 (Reshape)            (None, 24)           0           ['global_average_pooling3d_1[0][0\n",
            "                                                                 ]']                              \n",
            "                                                                                                  \n",
            " dense_2 (Dense)                (None, 1)            24          ['reshape_2[0][0]']              \n",
            "                                                                                                  \n",
            " dense_3 (Dense)                (None, 24)           24          ['dense_2[0][0]']                \n",
            "                                                                                                  \n",
            " reshape_3 (Reshape)            (None, 24, 1, 1, 1)  0           ['dense_3[0][0]']                \n",
            "                                                                                                  \n",
            " tf.compat.v1.shape_1 (TFOpLamb  (5,)                0           ['conv3d_1[0][0]']               \n",
            " da)                                                                                              \n",
            "                                                                                                  \n",
            " tf.broadcast_to_1 (TFOpLambda)  (None, 24, 32, 8, 4  0          ['reshape_3[0][0]',              \n",
            "                                )                                 'tf.compat.v1.shape_1[0][0]']   \n",
            "                                                                                                  \n",
            " batch_normalization_1 (BatchNo  (None, 24, 32, 8, 4  16         ['conv3d_1[0][0]']               \n",
            " rmalization)                   )                                                                 \n",
            "                                                                                                  \n",
            " multiply_1 (Multiply)          (None, 24, 32, 8, 4  0           ['conv3d_1[0][0]',               \n",
            "                                )                                 'tf.broadcast_to_1[0][0]']      \n",
            "                                                                                                  \n",
            " leaky_re_lu_1 (LeakyReLU)      (None, 24, 32, 8, 4  0           ['batch_normalization_1[0][0]']  \n",
            "                                )                                                                 \n",
            "                                                                                                  \n",
            " multiply_2 (Multiply)          (None, 24, 32, 8, 4  0           ['multiply_1[0][0]',             \n",
            "                                )                                 'leaky_re_lu_1[0][0]']          \n",
            "                                                                                                  \n",
            " conv3d_2 (Conv3D)              (None, 4, 32, 8, 4)  1156        ['multiply_2[0][0]']             \n",
            "                                                                                                  \n",
            " global_average_pooling3d_2 (Gl  (None, 4)           0           ['conv3d_2[0][0]']               \n",
            " obalAveragePooling3D)                                                                            \n",
            "                                                                                                  \n",
            " reshape_4 (Reshape)            (None, 4)            0           ['global_average_pooling3d_2[0][0\n",
            "                                                                 ]']                              \n",
            "                                                                                                  \n",
            " dense_4 (Dense)                (None, 1)            4           ['reshape_4[0][0]']              \n",
            "                                                                                                  \n",
            " dense_5 (Dense)                (None, 4)            4           ['dense_4[0][0]']                \n",
            "                                                                                                  \n",
            " reshape_5 (Reshape)            (None, 4, 1, 1, 1)   0           ['dense_5[0][0]']                \n",
            "                                                                                                  \n",
            " tf.compat.v1.shape_2 (TFOpLamb  (5,)                0           ['conv3d_2[0][0]']               \n",
            " da)                                                                                              \n",
            "                                                                                                  \n",
            " tf.broadcast_to_2 (TFOpLambda)  (None, 4, 32, 8, 4)  0          ['reshape_5[0][0]',              \n",
            "                                                                  'tf.compat.v1.shape_2[0][0]']   \n",
            "                                                                                                  \n",
            " batch_normalization_2 (BatchNo  (None, 4, 32, 8, 4)  16         ['conv3d_2[0][0]']               \n",
            " rmalization)                                                                                     \n",
            "                                                                                                  \n",
            " multiply_3 (Multiply)          (None, 4, 32, 8, 4)  0           ['conv3d_2[0][0]',               \n",
            "                                                                  'tf.broadcast_to_2[0][0]']      \n",
            "                                                                                                  \n",
            " leaky_re_lu_2 (LeakyReLU)      (None, 4, 32, 8, 4)  0           ['batch_normalization_2[0][0]']  \n",
            "                                                                                                  \n",
            " multiply_4 (Multiply)          (None, 4, 32, 8, 4)  0           ['multiply_3[0][0]',             \n",
            "                                                                  'leaky_re_lu_2[0][0]']          \n",
            "                                                                                                  \n",
            " conv3d_3 (Conv3D)              (None, 1, 32, 8, 4)  49          ['multiply_4[0][0]']             \n",
            "                                                                                                  \n",
            " batch_normalization_3 (BatchNo  (None, 1, 32, 8, 4)  16         ['conv3d_3[0][0]']               \n",
            " rmalization)                                                                                     \n",
            "                                                                                                  \n",
            " leaky_re_lu_3 (LeakyReLU)      (None, 1, 32, 8, 4)  0           ['batch_normalization_3[0][0]']  \n",
            "                                                                                                  \n",
            " reshape_6 (Reshape)            (None, 1024)         0           ['leaky_re_lu_3[0][0]']          \n",
            "                                                                                                  \n",
            " dense_6 (Dense)                (None, 2048)         2099200     ['reshape_6[0][0]']              \n",
            "                                                                                                  \n",
            " batch_normalization_4 (BatchNo  (None, 2048)        8192        ['dense_6[0][0]']                \n",
            " rmalization)                                                                                     \n",
            "                                                                                                  \n",
            " re_lu (ReLU)                   (None, 2048)         0           ['batch_normalization_4[0][0]']  \n",
            "                                                                                                  \n",
            " reshape_7 (Reshape)            (None, 2, 32, 8, 4)  0           ['re_lu[0][0]']                  \n",
            "                                                                                                  \n",
            " conv3d_4 (Conv3D)              (None, 6, 32, 8, 4)  150         ['reshape_7[0][0]']              \n",
            "                                                                                                  \n",
            " batch_normalization_5 (BatchNo  (None, 6, 32, 8, 4)  16         ['conv3d_4[0][0]']               \n",
            " rmalization)                                                                                     \n",
            "                                                                                                  \n",
            " leaky_re_lu_4 (LeakyReLU)      (None, 6, 32, 8, 4)  0           ['batch_normalization_5[0][0]']  \n",
            "                                                                                                  \n",
            " conv3d_5 (Conv3D)              (None, 24, 32, 8, 4  1752        ['leaky_re_lu_4[0][0]']          \n",
            "                                )                                                                 \n",
            "                                                                                                  \n",
            " batch_normalization_6 (BatchNo  (None, 24, 32, 8, 4  16         ['conv3d_5[0][0]']               \n",
            " rmalization)                   )                                                                 \n",
            "                                                                                                  \n",
            " leaky_re_lu_5 (LeakyReLU)      (None, 24, 32, 8, 4  0           ['batch_normalization_6[0][0]']  \n",
            "                                )                                                                 \n",
            "                                                                                                  \n",
            " conv3d_6 (Conv3D)              (None, 48, 32, 8, 4  13872       ['leaky_re_lu_5[0][0]']          \n",
            "                                )                                                                 \n",
            "                                                                                                  \n",
            " global_average_pooling3d_3 (Gl  (None, 48)          0           ['conv3d_6[0][0]']               \n",
            " obalAveragePooling3D)                                                                            \n",
            "                                                                                                  \n",
            " reshape_8 (Reshape)            (None, 48)           0           ['global_average_pooling3d_3[0][0\n",
            "                                                                 ]']                              \n",
            "                                                                                                  \n",
            " dense_7 (Dense)                (None, 1)            48          ['reshape_8[0][0]']              \n",
            "                                                                                                  \n",
            " dense_8 (Dense)                (None, 48)           48          ['dense_7[0][0]']                \n",
            "                                                                                                  \n",
            " reshape_9 (Reshape)            (None, 48, 1, 1, 1)  0           ['dense_8[0][0]']                \n",
            "                                                                                                  \n",
            " tf.compat.v1.shape_3 (TFOpLamb  (5,)                0           ['conv3d_6[0][0]']               \n",
            " da)                                                                                              \n",
            "                                                                                                  \n",
            " batch_normalization_7 (BatchNo  (None, 48, 32, 8, 4  16         ['conv3d_6[0][0]']               \n",
            " rmalization)                   )                                                                 \n",
            "                                                                                                  \n",
            " tf.broadcast_to_3 (TFOpLambda)  (None, 48, 32, 8, 4  0          ['reshape_9[0][0]',              \n",
            "                                )                                 'tf.compat.v1.shape_3[0][0]']   \n",
            "                                                                                                  \n",
            " leaky_re_lu_6 (LeakyReLU)      (None, 48, 32, 8, 4  0           ['batch_normalization_7[0][0]']  \n",
            "                                )                                                                 \n",
            "                                                                                                  \n",
            " multiply_5 (Multiply)          (None, 48, 32, 8, 4  0           ['conv3d_6[0][0]',               \n",
            "                                )                                 'tf.broadcast_to_3[0][0]']      \n",
            "                                                                                                  \n",
            " multiply_6 (Multiply)          (None, 48, 32, 8, 4  0           ['leaky_re_lu_6[0][0]',          \n",
            "                                )                                 'multiply_5[0][0]']             \n",
            "                                                                                                  \n",
            " conv3d_7 (Conv3D)              (None, 6, 32, 8, 4)  3462        ['multiply_6[0][0]']             \n",
            "                                                                                                  \n",
            " add (Add)                      (None, 6, 32, 8, 4)  0           ['conv3d_7[0][0]',               \n",
            "                                                                  'leaky_re_lu_4[0][0]']          \n",
            "                                                                                                  \n",
            " batch_normalization_8 (BatchNo  (None, 6, 32, 8, 4)  16         ['add[0][0]']                    \n",
            " rmalization)                                                                                     \n",
            "                                                                                                  \n",
            " leaky_re_lu_7 (LeakyReLU)      (None, 6, 32, 8, 4)  0           ['batch_normalization_8[0][0]']  \n",
            "                                                                                                  \n",
            " conv3d_8 (Conv3D)              (None, 24, 32, 8, 4  6504        ['leaky_re_lu_7[0][0]']          \n",
            "                                )                                                                 \n",
            "                                                                                                  \n",
            " batch_normalization_9 (BatchNo  (None, 24, 32, 8, 4  16         ['conv3d_8[0][0]']               \n",
            " rmalization)                   )                                                                 \n",
            "                                                                                                  \n",
            " leaky_re_lu_8 (LeakyReLU)      (None, 24, 32, 8, 4  0           ['batch_normalization_9[0][0]']  \n",
            "                                )                                                                 \n",
            "                                                                                                  \n",
            " conv3d_9 (Conv3D)              (None, 48, 32, 8, 4  51888       ['leaky_re_lu_8[0][0]']          \n",
            "                                )                                                                 \n",
            "                                                                                                  \n",
            " global_average_pooling3d_4 (Gl  (None, 48)          0           ['conv3d_9[0][0]']               \n",
            " obalAveragePooling3D)                                                                            \n",
            "                                                                                                  \n",
            " reshape_10 (Reshape)           (None, 48)           0           ['global_average_pooling3d_4[0][0\n",
            "                                                                 ]']                              \n",
            "                                                                                                  \n",
            " dense_9 (Dense)                (None, 1)            48          ['reshape_10[0][0]']             \n",
            "                                                                                                  \n",
            " dense_10 (Dense)               (None, 48)           48          ['dense_9[0][0]']                \n",
            "                                                                                                  \n",
            " reshape_11 (Reshape)           (None, 48, 1, 1, 1)  0           ['dense_10[0][0]']               \n",
            "                                                                                                  \n",
            " tf.compat.v1.shape_4 (TFOpLamb  (5,)                0           ['conv3d_9[0][0]']               \n",
            " da)                                                                                              \n",
            "                                                                                                  \n",
            " batch_normalization_10 (BatchN  (None, 48, 32, 8, 4  16         ['conv3d_9[0][0]']               \n",
            " ormalization)                  )                                                                 \n",
            "                                                                                                  \n",
            " tf.broadcast_to_4 (TFOpLambda)  (None, 48, 32, 8, 4  0          ['reshape_11[0][0]',             \n",
            "                                )                                 'tf.compat.v1.shape_4[0][0]']   \n",
            "                                                                                                  \n",
            " leaky_re_lu_9 (LeakyReLU)      (None, 48, 32, 8, 4  0           ['batch_normalization_10[0][0]'] \n",
            "                                )                                                                 \n",
            "                                                                                                  \n",
            " multiply_7 (Multiply)          (None, 48, 32, 8, 4  0           ['conv3d_9[0][0]',               \n",
            "                                )                                 'tf.broadcast_to_4[0][0]']      \n",
            "                                                                                                  \n",
            " multiply_8 (Multiply)          (None, 48, 32, 8, 4  0           ['leaky_re_lu_9[0][0]',          \n",
            "                                )                                 'multiply_7[0][0]']             \n",
            "                                                                                                  \n",
            " conv3d_10 (Conv3D)             (None, 6, 32, 8, 4)  12966       ['multiply_8[0][0]']             \n",
            "                                                                                                  \n",
            " add_1 (Add)                    (None, 6, 32, 8, 4)  0           ['conv3d_10[0][0]',              \n",
            "                                                                  'leaky_re_lu_7[0][0]']          \n",
            "                                                                                                  \n",
            " global_average_pooling3d_5 (Gl  (None, 6)           0           ['add_1[0][0]']                  \n",
            " obalAveragePooling3D)                                                                            \n",
            "                                                                                                  \n",
            " reshape_12 (Reshape)           (None, 6)            0           ['global_average_pooling3d_5[0][0\n",
            "                                                                 ]']                              \n",
            "                                                                                                  \n",
            " dense_11 (Dense)               (None, 1)            6           ['reshape_12[0][0]']             \n",
            "                                                                                                  \n",
            " dense_12 (Dense)               (None, 6)            6           ['dense_11[0][0]']               \n",
            "                                                                                                  \n",
            " reshape_13 (Reshape)           (None, 6, 1, 1, 1)   0           ['dense_12[0][0]']               \n",
            "                                                                                                  \n",
            " tf.compat.v1.shape_5 (TFOpLamb  (5,)                0           ['add_1[0][0]']                  \n",
            " da)                                                                                              \n",
            "                                                                                                  \n",
            " tf.broadcast_to_5 (TFOpLambda)  (None, 6, 32, 8, 4)  0          ['reshape_13[0][0]',             \n",
            "                                                                  'tf.compat.v1.shape_5[0][0]']   \n",
            "                                                                                                  \n",
            " multiply_9 (Multiply)          (None, 6, 32, 8, 4)  0           ['add_1[0][0]',                  \n",
            "                                                                  'tf.broadcast_to_5[0][0]']      \n",
            "                                                                                                  \n",
            " multiply_10 (Multiply)         (None, 6, 32, 8, 4)  0           ['add_1[0][0]',                  \n",
            "                                                                  'multiply_9[0][0]']             \n",
            "                                                                                                  \n",
            " conv3d_11 (Conv3D)             (None, 2, 32, 8, 4)  146         ['multiply_10[0][0]']            \n",
            "                                                                                                  \n",
            "==================================================================================================\n",
            "Total params: 2,203,537\n",
            "Trainable params: 2,199,361\n",
            "Non-trainable params: 4,176\n",
            "__________________________________________________________________________________________________\n",
            "None\n"
          ]
        }
      ]
    },
    {
      "cell_type": "code",
      "source": [
        "# Serialize model to JSON\n",
        "model_json = AcsiNet.to_json()\n",
        "outfile = \"result/model3%s.json\"%file\n",
        "with open(outfile, \"w\") as json_file:\n",
        "    json_file.write(model_json)\n",
        "\n",
        "# Serialize weights to HDF5\n",
        "outfile = \"result/model3%s.h5\"%file\n",
        "AcsiNet.save_weights(outfile)\n",
        "\n",
        "# Save model in tensorflow format\n",
        "AcsiNet.save(\"tensorflow/model3%s\"%file)"
      ],
      "metadata": {
        "colab": {
          "base_uri": "https://localhost:8080/"
        },
        "id": "C9rOCuY0Rit9",
        "outputId": "48943283-b02c-4bc7-8683-e38775b7f74f"
      },
      "execution_count": 31,
      "outputs": [
        {
          "output_type": "stream",
          "name": "stderr",
          "text": [
            "WARNING:absl:Found untraced functions such as _jit_compiled_convolution_op, _jit_compiled_convolution_op, _jit_compiled_convolution_op, _jit_compiled_convolution_op, _jit_compiled_convolution_op while saving (showing 5 of 12). These functions will not be directly callable after loading.\n"
          ]
        }
      ]
    }
  ]
}